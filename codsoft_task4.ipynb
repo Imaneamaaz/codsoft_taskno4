{
  "nbformat": 4,
  "nbformat_minor": 0,
  "metadata": {
    "colab": {
      "provenance": []
    },
    "kernelspec": {
      "name": "python3",
      "display_name": "Python 3"
    },
    "language_info": {
      "name": "python"
    }
  },
  "cells": [
    {
      "cell_type": "code",
      "execution_count": 1,
      "metadata": {
        "colab": {
          "base_uri": "https://localhost:8080/"
        },
        "id": "jF22UQ5Glj5C",
        "outputId": "002cc194-1aec-4d1a-826b-9a0a76d54746"
      },
      "outputs": [
        {
          "output_type": "stream",
          "name": "stdout",
          "text": [
            "Collecting scikit-surprise\n",
            "  Downloading scikit_surprise-1.1.4.tar.gz (154 kB)\n",
            "\u001b[2K     \u001b[90m━━━━━━━━━━━━━━━━━━━━━━━━━━━━━━━━━━━━━━━━\u001b[0m \u001b[32m154.4/154.4 kB\u001b[0m \u001b[31m1.5 MB/s\u001b[0m eta \u001b[36m0:00:00\u001b[0m\n",
            "\u001b[?25h  Installing build dependencies ... \u001b[?25l\u001b[?25hdone\n",
            "  Getting requirements to build wheel ... \u001b[?25l\u001b[?25hdone\n",
            "  Preparing metadata (pyproject.toml) ... \u001b[?25l\u001b[?25hdone\n",
            "Requirement already satisfied: joblib>=1.2.0 in /usr/local/lib/python3.10/dist-packages (from scikit-surprise) (1.4.2)\n",
            "Requirement already satisfied: numpy>=1.19.5 in /usr/local/lib/python3.10/dist-packages (from scikit-surprise) (1.26.4)\n",
            "Requirement already satisfied: scipy>=1.6.0 in /usr/local/lib/python3.10/dist-packages (from scikit-surprise) (1.13.1)\n",
            "Building wheels for collected packages: scikit-surprise\n",
            "  Building wheel for scikit-surprise (pyproject.toml) ... \u001b[?25l\u001b[?25hdone\n",
            "  Created wheel for scikit-surprise: filename=scikit_surprise-1.1.4-cp310-cp310-linux_x86_64.whl size=2357238 sha256=862bcd2ded129d042bf3f17bb5ce7a6e9553790b3952f7b1a24ee371f914216a\n",
            "  Stored in directory: /root/.cache/pip/wheels/4b/3f/df/6acbf0a40397d9bf3ff97f582cc22fb9ce66adde75bc71fd54\n",
            "Successfully built scikit-surprise\n",
            "Installing collected packages: scikit-surprise\n",
            "Successfully installed scikit-surprise-1.1.4\n"
          ]
        }
      ],
      "source": [
        "pip install scikit-surprise\n"
      ]
    },
    {
      "cell_type": "code",
      "source": [
        "import pandas as pd\n",
        "from sklearn.feature_extraction.text import TfidfVectorizer\n",
        "from sklearn.metrics.pairwise import linear_kernel\n",
        "from sklearn.metrics import mean_squared_error, precision_recall_curve, auc\n",
        "import numpy as np\n",
        "import matplotlib.pyplot as plt\n",
        "\n",
        "# Enhanced sample data with more descriptions\n",
        "data_dict = {\n",
        "    'title': [\n",
        "        'The Matrix', 'Titanic', 'Inception', 'Avatar', 'The Godfather',\n",
        "        'The Dark Knight', 'Pulp Fiction', 'The Lord of the Rings: The Return of the King',\n",
        "        'Forrest Gump', 'The Lion King', 'Gladiator', 'Jurassic Park',\n",
        "        'The Shawshank Redemption', 'Fight Club', 'The Social Network'\n",
        "    ],\n",
        "    'genre': [\n",
        "        'Action|Sci-Fi', 'Romance|Drama', 'Action|Sci-Fi|Thriller', 'Action|Adventure|Fantasy', 'Crime|Drama',\n",
        "        'Action|Crime|Drama', 'Crime|Drama', 'Adventure|Drama|Fantasy',\n",
        "        'Drama|Romance', 'Animation|Adventure|Drama', 'Action|Adventure|Drama', 'Adventure|Sci-Fi|Thriller',\n",
        "        'Drama', 'Drama', 'Biography|Drama'\n",
        "    ],\n",
        "    'director': [\n",
        "        'Lana Wachowski', 'James Cameron', 'Christopher Nolan', 'James Cameron', 'Francis Ford Coppola',\n",
        "        'Christopher Nolan', 'Quentin Tarantino', 'Peter Jackson',\n",
        "        'Robert Zemeckis', 'Roger Allers', 'Ridley Scott', 'Steven Spielberg',\n",
        "        'Frank Darabont', 'David Fincher', 'David Fincher'\n",
        "    ],\n",
        "    'description': [\n",
        "        'A computer hacker learns from mysterious rebels about the true nature of his reality and his role in the war against its controllers.',\n",
        "        'A seventeen-year-old aristocrat falls in love with a kind but poor artist aboard the luxurious, ill-fated R.M.S. Titanic.',\n",
        "        'A thief who enters the dreams of others must perform the impossible task of planting an idea into the mind of a CEO.',\n",
        "        'A paraplegic Marine dispatched to the moon Pandora on a unique mission becomes torn between following his orders and protecting the world he feels is his home.',\n",
        "        'The aging patriarch of an organized crime dynasty transfers control of his clandestine empire to his reluctant son.',\n",
        "        'When the menace known as the Joker emerges from his mysterious past, he wreaks havoc and chaos on the people of Gotham.',\n",
        "        'The lives of two mob hitmen, a boxer, a gangster and his wife, and a pair of diner bandits intertwine in four tales of violence and redemption.',\n",
        "        'Gandalf and Aragorn lead the World of Men against Sauron\\'s army to draw his gaze from Frodo and Sam as they approach Mount Doom with the One Ring.',\n",
        "        'The presidencies of Kennedy and Johnson, the Vietnam War, the Watergate scandal and other historical events unfold from the perspective of an Alabama man with an IQ of 75.',\n",
        "        'Lion prince Simba and his father are targeted by his bitter uncle, who wants to ascend the throne himself.',\n",
        "        'A former Roman General sets out to exact vengeance against the corrupt emperor who murdered his family and sent him into slavery.',\n",
        "        'During a preview tour, a theme park suffers a major power breakdown that allows its cloned dinosaur exhibits to run amok.',\n",
        "        'Two imprisoned men bond over a number of years, finding solace and eventual redemption through acts of common decency.',\n",
        "        'An insomniac office worker and a devil-may-care soap maker form an underground fight club that evolves into much more.',\n",
        "        'Harvard student Mark Zuckerberg creates the social networking site that would become known as Facebook, but is later sued by two brothers who claimed he stole their idea.'\n",
        "    ]\n",
        "}\n",
        "\n",
        "# Convert to DataFrame\n",
        "df = pd.DataFrame(data_dict)\n",
        "\n",
        "# Combine relevant features into a single string\n",
        "df['combined_features'] = df['genre'] + ' ' + df['director'] + ' ' + df['description']\n",
        "\n",
        "# Create a TF-IDF Vectorizer\n",
        "tfidf = TfidfVectorizer(stop_words='english')\n",
        "\n",
        "# Apply TF-IDF to the combined features\n",
        "tfidf_matrix = tfidf.fit_transform(df['combined_features'])\n",
        "\n",
        "# Compute the cosine similarity matrix\n",
        "cosine_sim = linear_kernel(tfidf_matrix, tfidf_matrix)"
      ],
      "metadata": {
        "id": "v-3-b8uumOgZ"
      },
      "execution_count": 16,
      "outputs": []
    },
    {
      "cell_type": "code",
      "source": [
        "# Evaluate recommendations function\n",
        "def evaluate_recommendations(test_data):\n",
        "    test_df = pd.DataFrame(test_data)\n",
        "    test_df['combined_features'] = test_df['genre'] + ' ' + test_df['director'] + ' ' + test_df['description']\n",
        "    test_matrix = tfidf.transform(test_df['combined_features'])\n",
        "\n",
        "    # Predict similarity scores\n",
        "    sim_scores = linear_kernel(test_matrix, tfidf_matrix)\n",
        "\n",
        "    # Flatten the matrix and compute MSE\n",
        "    true_scores = []\n",
        "    pred_scores = []\n",
        "\n",
        "    for i in range(len(test_data)):\n",
        "        idx = df.index[df['title'] == test_data[i]['title']].tolist()[0]\n",
        "        true_scores.extend([1] * len(df))  # Simulating true scores as 1 for simplicity\n",
        "        pred_scores.extend(sim_scores[i])\n",
        "\n",
        "    mse = mean_squared_error(true_scores, pred_scores)\n",
        "    print(f\"Mean Squared Error of the Recommendations: {mse}\")\n",
        "\n",
        "    # Calculate Precision-Recall Curve and AUC\n",
        "    precision, recall, _ = precision_recall_curve(true_scores, pred_scores)\n",
        "    auc_score = auc(recall, precision)\n",
        "    print(f\"AUC of Precision-Recall Curve: {auc_score}\")\n",
        "\n",
        "\n",
        "# Example test data\n",
        "test_data = [\n",
        "    {'title': 'The Matrix', 'genre': 'Action|Sci-Fi', 'director': 'Lana Wachowski', 'description': 'A computer hacker learns from mysterious rebels...'},\n",
        "    {'title': 'Avatar', 'genre': 'Action|Adventure|Fantasy', 'director': 'James Cameron', 'description': 'A paraplegic Marine dispatched to the moon Pandora...'}\n",
        "]\n",
        "\n",
        "# Evaluate the recommendation system\n",
        "evaluate_recommendations(test_data)"
      ],
      "metadata": {
        "colab": {
          "base_uri": "https://localhost:8080/"
        },
        "id": "i7kAmh11meXv",
        "outputId": "9f818824-3d09-42a1-825b-e75533070ebe"
      },
      "execution_count": 21,
      "outputs": [
        {
          "output_type": "stream",
          "name": "stdout",
          "text": [
            "Mean Squared Error of the Recommendations: 0.8791836176455071\n",
            "AUC of Precision-Recall Curve: 1.0\n"
          ]
        }
      ]
    },
    {
      "cell_type": "code",
      "source": [
        "# Get recommendations function\n",
        "def get_recommendations(title, cosine_sim=cosine_sim):\n",
        "    # Get the index of the movie that matches the title\n",
        "    idx = df.index[df['title'] == title].tolist()[0]\n",
        "\n",
        "    # Get the pairwise similarity scores of all movies with that movie\n",
        "    sim_scores = list(enumerate(cosine_sim[idx]))\n",
        "\n",
        "    # Sort the movies based on the similarity scores\n",
        "    sim_scores = sorted(sim_scores, key=lambda x: x[1], reverse=True)\n",
        "\n",
        "    # Get the scores of the 5 most similar movies\n",
        "    sim_scores = sim_scores[1:6]\n",
        "\n",
        "    # Get the movie indices\n",
        "    movie_indices = [i[0] for i in sim_scores]\n",
        "\n",
        "    # Return the top 5 most similar movies\n",
        "    return df[['title', 'genre', 'director']].iloc[movie_indices]\n",
        "\n",
        "# Example: Get top 5 recommendations for 'The Matrix'\n",
        "print(get_recommendations('The Matrix'))"
      ],
      "metadata": {
        "colab": {
          "base_uri": "https://localhost:8080/"
        },
        "id": "icwMkBu_nC5L",
        "outputId": "3bab6d6f-5fcc-42d9-ab6e-87ad166a5cbb"
      },
      "execution_count": 18,
      "outputs": [
        {
          "output_type": "stream",
          "name": "stdout",
          "text": [
            "              title                      genre           director\n",
            "2         Inception     Action|Sci-Fi|Thriller  Christopher Nolan\n",
            "5   The Dark Knight         Action|Crime|Drama  Christopher Nolan\n",
            "11    Jurassic Park  Adventure|Sci-Fi|Thriller   Steven Spielberg\n",
            "8      Forrest Gump              Drama|Romance    Robert Zemeckis\n",
            "10        Gladiator     Action|Adventure|Drama       Ridley Scott\n"
          ]
        }
      ]
    },
    {
      "cell_type": "code",
      "source": [],
      "metadata": {
        "id": "L1OfWU5MnEic"
      },
      "execution_count": null,
      "outputs": []
    }
  ]
}